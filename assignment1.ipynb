{
 "cells": [
  {
   "cell_type": "code",
   "execution_count": 1,
   "id": "af81bf2d",
   "metadata": {},
   "outputs": [
    {
     "data": {
      "text/plain": [
       "'\\x00'"
      ]
     },
     "execution_count": 1,
     "metadata": {},
     "output_type": "execute_result"
    }
   ],
   "source": [
    "chr(0)"
   ]
  },
  {
   "cell_type": "code",
   "execution_count": 2,
   "id": "f5befb7d",
   "metadata": {},
   "outputs": [
    {
     "name": "stdout",
     "output_type": "stream",
     "text": [
      "\u0000\n"
     ]
    }
   ],
   "source": [
    "print(chr(0))"
   ]
  },
  {
   "cell_type": "code",
   "execution_count": 3,
   "id": "86ab8392",
   "metadata": {},
   "outputs": [
    {
     "name": "stdout",
     "output_type": "stream",
     "text": [
      "'\\x00'\n"
     ]
    }
   ],
   "source": [
    "print(chr(0).__repr__())"
   ]
  },
  {
   "cell_type": "code",
   "execution_count": 4,
   "id": "2713675e",
   "metadata": {},
   "outputs": [],
   "source": [
    "test_string = \"this is a test\" + chr(0) + \"string\""
   ]
  },
  {
   "cell_type": "code",
   "execution_count": 5,
   "id": "f0427ca9",
   "metadata": {},
   "outputs": [
    {
     "name": "stdout",
     "output_type": "stream",
     "text": [
      "this is a test\u0000string\n"
     ]
    }
   ],
   "source": [
    "print(test_string)"
   ]
  },
  {
   "cell_type": "code",
   "execution_count": 1,
   "id": "f4f23957",
   "metadata": {},
   "outputs": [],
   "source": [
    "test_string = \"hello! こんにちは!\"\n",
    "utf8_encoded = test_string.encode(\"utf-8\")"
   ]
  },
  {
   "cell_type": "code",
   "execution_count": 7,
   "id": "6dfe39e2",
   "metadata": {},
   "outputs": [
    {
     "name": "stdout",
     "output_type": "stream",
     "text": [
      "b'hello! \\xe3\\x81\\x93\\xe3\\x82\\x93\\xe3\\x81\\xab\\xe3\\x81\\xa1\\xe3\\x81\\xaf!'\n",
      "[104, 101, 108, 108, 111, 33, 32, 227, 129, 147, 227, 130, 147, 227, 129, 171, 227, 129, 161, 227, 129, 175, 33]\n"
     ]
    }
   ],
   "source": [
    "print(utf8_encoded)\n",
    "print(list(utf8_encoded))"
   ]
  },
  {
   "cell_type": "code",
   "execution_count": 8,
   "id": "c7458edb",
   "metadata": {},
   "outputs": [
    {
     "data": {
      "text/plain": [
       "(13, 23)"
      ]
     },
     "execution_count": 8,
     "metadata": {},
     "output_type": "execute_result"
    }
   ],
   "source": [
    "len(test_string), len(utf8_encoded)"
   ]
  },
  {
   "cell_type": "code",
   "execution_count": 9,
   "id": "36c8a6aa",
   "metadata": {},
   "outputs": [
    {
     "data": {
      "text/plain": [
       "'hello! こんにちは!'"
      ]
     },
     "execution_count": 9,
     "metadata": {},
     "output_type": "execute_result"
    }
   ],
   "source": [
    "utf8_encoded.decode(\"utf-8\")"
   ]
  },
  {
   "cell_type": "code",
   "execution_count": 10,
   "id": "19c060d7",
   "metadata": {},
   "outputs": [],
   "source": [
    "utf16_encoded = test_string.encode(\"utf-16\")\n",
    "utf32_encoded = test_string.encode(\"utf-32\")"
   ]
  },
  {
   "cell_type": "code",
   "execution_count": 11,
   "id": "e16e754b",
   "metadata": {},
   "outputs": [
    {
     "name": "stdout",
     "output_type": "stream",
     "text": [
      "23\n",
      "28\n",
      "56\n"
     ]
    }
   ],
   "source": [
    "print (len(list(utf8_encoded)))\n",
    "print (len(list(utf16_encoded)))\n",
    "print (len(list(utf32_encoded)))"
   ]
  },
  {
   "cell_type": "code",
   "execution_count": 12,
   "id": "a4eefcc4",
   "metadata": {},
   "outputs": [
    {
     "name": "stdout",
     "output_type": "stream",
     "text": [
      "5\n",
      "5\n"
     ]
    }
   ],
   "source": [
    "test_string = \"hello\"\n",
    "print(len(test_string))\n",
    "print(len(list(test_string.encode(\"utf-8\"))))"
   ]
  },
  {
   "cell_type": "code",
   "execution_count": 13,
   "id": "0575596e",
   "metadata": {},
   "outputs": [],
   "source": [
    "def decode_utf8_bytes_to_str_wrong(bytestring: bytes):\n",
    "\treturn \"\".join([bytes([b]).decode(\"utf-8\") for b in bytestring])"
   ]
  },
  {
   "cell_type": "code",
   "execution_count": 14,
   "id": "5434aacb",
   "metadata": {},
   "outputs": [
    {
     "data": {
      "text/plain": [
       "'hello'"
      ]
     },
     "execution_count": 14,
     "metadata": {},
     "output_type": "execute_result"
    }
   ],
   "source": [
    "decode_utf8_bytes_to_str_wrong(\"hello\".encode(\"utf-8\"))"
   ]
  },
  {
   "cell_type": "code",
   "execution_count": 18,
   "id": "8be6498b",
   "metadata": {},
   "outputs": [
    {
     "data": {
      "text/plain": [
       "[104, 101, 108, 108, 111]"
      ]
     },
     "execution_count": 18,
     "metadata": {},
     "output_type": "execute_result"
    }
   ],
   "source": [
    "list(\"hello\".encode(\"utf-8\"))"
   ]
  },
  {
   "cell_type": "code",
   "execution_count": null,
   "id": "e17c3284",
   "metadata": {},
   "outputs": [
    {
     "ename": "UnicodeDecodeError",
     "evalue": "'utf-8' codec can't decode byte 0xe3 in position 0: unexpected end of data",
     "output_type": "error",
     "traceback": [
      "\u001b[31m---------------------------------------------------------------------------\u001b[39m",
      "\u001b[31mUnicodeDecodeError\u001b[39m                        Traceback (most recent call last)",
      "\u001b[36mCell\u001b[39m\u001b[36m \u001b[39m\u001b[32mIn[15]\u001b[39m\u001b[32m, line 1\u001b[39m\n\u001b[32m----> \u001b[39m\u001b[32m1\u001b[39m \u001b[43mdecode_utf8_bytes_to_str_wrong\u001b[49m\u001b[43m(\u001b[49m\u001b[33;43m\"\u001b[39;49m\u001b[33;43mhello! こんにちは!\u001b[39;49m\u001b[33;43m\"\u001b[39;49m\u001b[43m.\u001b[49m\u001b[43mencode\u001b[49m\u001b[43m(\u001b[49m\u001b[33;43m\"\u001b[39;49m\u001b[33;43mutf-8\u001b[39;49m\u001b[33;43m\"\u001b[39;49m\u001b[43m)\u001b[49m\u001b[43m)\u001b[49m \u001b[38;5;66;03m# Error\u001b[39;00m\n",
      "\u001b[36mCell\u001b[39m\u001b[36m \u001b[39m\u001b[32mIn[13]\u001b[39m\u001b[32m, line 2\u001b[39m, in \u001b[36mdecode_utf8_bytes_to_str_wrong\u001b[39m\u001b[34m(bytestring)\u001b[39m\n\u001b[32m      1\u001b[39m \u001b[38;5;28;01mdef\u001b[39;00m\u001b[38;5;250m \u001b[39m\u001b[34mdecode_utf8_bytes_to_str_wrong\u001b[39m(bytestring: \u001b[38;5;28mbytes\u001b[39m):\n\u001b[32m----> \u001b[39m\u001b[32m2\u001b[39m \t\u001b[38;5;28;01mreturn\u001b[39;00m \u001b[33m\"\u001b[39m\u001b[33m\"\u001b[39m.join([\u001b[38;5;28;43mbytes\u001b[39;49m\u001b[43m(\u001b[49m\u001b[43m[\u001b[49m\u001b[43mb\u001b[49m\u001b[43m]\u001b[49m\u001b[43m)\u001b[49m\u001b[43m.\u001b[49m\u001b[43mdecode\u001b[49m\u001b[43m(\u001b[49m\u001b[33;43m\"\u001b[39;49m\u001b[33;43mutf-8\u001b[39;49m\u001b[33;43m\"\u001b[39;49m\u001b[43m)\u001b[49m \u001b[38;5;28;01mfor\u001b[39;00m b \u001b[38;5;129;01min\u001b[39;00m bytestring])\n",
      "\u001b[31mUnicodeDecodeError\u001b[39m: 'utf-8' codec can't decode byte 0xe3 in position 0: unexpected end of data"
     ]
    }
   ],
   "source": [
    "# decode_utf8_bytes_to_str_wrong(\"hello! こんにちは!\".encode(\"utf-8\")) # Error"
   ]
  },
  {
   "cell_type": "code",
   "execution_count": 16,
   "id": "3ae681b7",
   "metadata": {},
   "outputs": [
    {
     "ename": "UnicodeDecodeError",
     "evalue": "'utf-8' codec can't decode bytes in position 0-1: unexpected end of data",
     "output_type": "error",
     "traceback": [
      "\u001b[31m---------------------------------------------------------------------------\u001b[39m",
      "\u001b[31mUnicodeDecodeError\u001b[39m                        Traceback (most recent call last)",
      "\u001b[36mCell\u001b[39m\u001b[36m \u001b[39m\u001b[32mIn[16]\u001b[39m\u001b[32m, line 1\u001b[39m\n\u001b[32m----> \u001b[39m\u001b[32m1\u001b[39m \u001b[38;5;28;43mbytes\u001b[39;49m\u001b[43m(\u001b[49m\u001b[38;5;28;43mlist\u001b[39;49m\u001b[43m(\u001b[49m\u001b[33;43m\"\u001b[39;49m\u001b[33;43mこ\u001b[39;49m\u001b[33;43m\"\u001b[39;49m\u001b[43m.\u001b[49m\u001b[43mencode\u001b[49m\u001b[43m(\u001b[49m\u001b[33;43m\"\u001b[39;49m\u001b[33;43mutf-8\u001b[39;49m\u001b[33;43m\"\u001b[39;49m\u001b[43m)\u001b[49m\u001b[43m)\u001b[49m\u001b[43m[\u001b[49m\u001b[43m:\u001b[49m\u001b[43m-\u001b[49m\u001b[32;43m1\u001b[39;49m\u001b[43m]\u001b[49m\u001b[43m)\u001b[49m\u001b[43m.\u001b[49m\u001b[43mdecode\u001b[49m\u001b[43m(\u001b[49m\u001b[33;43m\"\u001b[39;49m\u001b[33;43mutf-8\u001b[39;49m\u001b[33;43m\"\u001b[39;49m\u001b[43m)\u001b[49m \u001b[38;5;66;03m# Error - probably no byte sequence can be prefix of any other?\u001b[39;00m\n",
      "\u001b[31mUnicodeDecodeError\u001b[39m: 'utf-8' codec can't decode bytes in position 0-1: unexpected end of data"
     ]
    }
   ],
   "source": [
    "bytes(list(\"こ\".encode(\"utf-8\"))[:-1]).decode(\"utf-8\") # Error - probably no byte sequence can be prefix of any other?"
   ]
  },
  {
   "cell_type": "code",
   "execution_count": 54,
   "id": "b6f0175b",
   "metadata": {},
   "outputs": [],
   "source": [
    "PAT = r\"\"\"'(?:[sdmt]|ll|ve|re)| ?\\p{L}+| ?\\p{N}+| ?[^\\s\\p{L}\\p{N}]+|\\s+(?!\\S)|\\s+\"\"\""
   ]
  },
  {
   "cell_type": "code",
   "execution_count": 46,
   "id": "9c281e10",
   "metadata": {},
   "outputs": [],
   "source": [
    "import regex as re"
   ]
  },
  {
   "cell_type": "code",
   "execution_count": 47,
   "id": "e34fd9af",
   "metadata": {},
   "outputs": [
    {
     "data": {
      "text/plain": [
       "['some', ' text', ' that', ' i', \"'ll\", ' pre', '-', 'tokenize']"
      ]
     },
     "execution_count": 47,
     "metadata": {},
     "output_type": "execute_result"
    }
   ],
   "source": [
    "re.findall(PAT, \"some text that i'll pre-tokenize\")"
   ]
  },
  {
   "cell_type": "code",
   "execution_count": 48,
   "id": "5205bac2",
   "metadata": {},
   "outputs": [
    {
     "data": {
      "text/plain": [
       "['this', ' is', ' a', ' piece', ' of', ' random', ' text']"
      ]
     },
     "execution_count": 48,
     "metadata": {},
     "output_type": "execute_result"
    }
   ],
   "source": [
    "re.findall(PAT, \"this is a piece of random text\")"
   ]
  },
  {
   "cell_type": "code",
   "execution_count": 49,
   "id": "55c57060",
   "metadata": {},
   "outputs": [
    {
     "data": {
      "text/plain": [
       "['this', ' is', ' a', ' piece', ' of', ' random', ' text', '.']"
      ]
     },
     "execution_count": 49,
     "metadata": {},
     "output_type": "execute_result"
    }
   ],
   "source": [
    "re.findall(PAT, \"this is a piece of random text.\")"
   ]
  },
  {
   "cell_type": "code",
   "execution_count": null,
   "id": "48cb8619",
   "metadata": {},
   "outputs": [],
   "source": [
    "corpus = []\n",
    "with open('tiny_corpus.txt', 'r') as f:\n",
    "\tfor line in f.readlines():\n",
    "\t\tcorpus.extend([word.strip() for word in line.split(' ')])"
   ]
  },
  {
   "cell_type": "code",
   "execution_count": 82,
   "id": "5c6dbd90",
   "metadata": {},
   "outputs": [],
   "source": [
    "from collections import Counter\n",
    "\n",
    "def bpe_tokenizer(corpus, num_merges):\n",
    "\tnew_tokens = []\n",
    "\n",
    "\t# Create a dict mapping pretokens to frequency\n",
    "\tfreq = Counter()\n",
    "\n",
    "\tfor pretoken in corpus:\n",
    "\t\tfreq[tuple(pretoken)] += 1\n",
    "\n",
    "\t# Loop through for num_merges\n",
    "\tfor _ in range(num_merges):\n",
    "\n",
    "\t\t# Count the number of co-orccurences\n",
    "\t\tbigrams = Counter()\n",
    "\n",
    "\t\tfor pretoken in freq.keys():\n",
    "\t\t\tfor char_1, char_2 in zip(pretoken[:-1], pretoken[1:]):\n",
    "\t\t\t\tbigrams[(char_1, char_2)] += freq[pretoken]\n",
    "\n",
    "\t\t# Get the max one resolving ties lexicographically\n",
    "\t\tmax_val = max(bigrams.values())\n",
    "\t\tmax_bigrams = [bigram for bigram in bigrams if bigrams[bigram] == max_val ]\n",
    "\n",
    "\t\t# Append to new_tokens\n",
    "\t\tmerge_rule = max(max_bigrams)\n",
    "\t\tnew_tokens.append(''.join(merge_rule))\n",
    "\n",
    "\t\t# Create new dict mapping pretokens to frequency with merge\n",
    "\t\tnew_freq = {}\n",
    "\t\tfor pretoken, val in freq.items():\n",
    "\t\t\ti = 0\n",
    "\t\t\tnew_pretoken = []\n",
    "\t\t\twhile i < len(pretoken) - 1:\n",
    "\t\t\t\tchar_1 = pretoken[i]\n",
    "\t\t\t\tchar_2 = pretoken[i + 1]\n",
    "\n",
    "\t\t\t\tif char_1 == merge_rule[0] and char_2 == merge_rule[1]:\n",
    "\t\t\t\t\tnew_pretoken.append(char_1 + char_2)\n",
    "\t\t\t\t\ti += 2\n",
    "\t\t\t\telse:\n",
    "\t\t\t\t\tnew_pretoken.append(char_1)\n",
    "\t\t\t\t\ti += 1\n",
    "\n",
    "\t\t\tif i == len(pretoken) - 1:\n",
    "\t\t\t\tnew_pretoken.append(pretoken[i])\n",
    "\t\t\tnew_freq[tuple(new_pretoken)] = val\n",
    "\t\t\n",
    "\t\t# Replace existing mapping\n",
    "\t\tfreq = new_freq\n",
    "\treturn new_tokens"
   ]
  },
  {
   "cell_type": "code",
   "execution_count": null,
   "id": "f2a73ebc",
   "metadata": {},
   "outputs": [
    {
     "data": {
      "text/plain": [
       "['st', 'est', 'ow', 'low', 'west', 'ne']"
      ]
     },
     "execution_count": 83,
     "metadata": {},
     "output_type": "execute_result"
    }
   ],
   "source": [
    "bpe_tokenizer(corpus, 6)\n",
    "\n",
    "# Making an assumption here that each character is mapping to 1 byte"
   ]
  },
  {
   "cell_type": "code",
   "execution_count": 1,
   "id": "170eb95d",
   "metadata": {},
   "outputs": [],
   "source": [
    "with open('data/TinyStoriesV2-GPT4-train.txt', 'r') as f:\n",
    "\tlines = f.readlines()"
   ]
  },
  {
   "cell_type": "code",
   "execution_count": 2,
   "id": "cd62a17f",
   "metadata": {},
   "outputs": [
    {
     "data": {
      "text/plain": [
       "1"
      ]
     },
     "execution_count": 2,
     "metadata": {},
     "output_type": "execute_result"
    }
   ],
   "source": [
    "len(lines[0])"
   ]
  },
  {
   "cell_type": "markdown",
   "id": "58b0ca78",
   "metadata": {},
   "source": [
    "#### GRAVEYARD"
   ]
  },
  {
   "cell_type": "code",
   "execution_count": 33,
   "id": "177b0f29",
   "metadata": {},
   "outputs": [],
   "source": [
    "from cs336_basics.pretokenization_example import find_chunk_boundaries\n",
    "f = open('data/TinyStoriesV2-GPT4-train.txt', 'rb')\n",
    "desired_num_chunks = 100\n",
    "split_special_token = b'<|endoftext|>'\n",
    "chunk_boundaries = find_chunk_boundaries(f, desired_num_chunks, split_special_token)"
   ]
  },
  {
   "cell_type": "code",
   "execution_count": 34,
   "id": "8b48fdc7",
   "metadata": {},
   "outputs": [],
   "source": [
    "i = 0\n",
    "f.seek(chunk_boundaries[i])\n",
    "op = f.read(chunk_boundaries[i + 1] - chunk_boundaries[i])"
   ]
  },
  {
   "cell_type": "code",
   "execution_count": 5,
   "id": "4b612e09",
   "metadata": {},
   "outputs": [],
   "source": [
    "op_str = op.decode('utf-8')"
   ]
  },
  {
   "cell_type": "code",
   "execution_count": 6,
   "id": "5223c2f4",
   "metadata": {},
   "outputs": [
    {
     "name": "stdout",
     "output_type": "stream",
     "text": [
      "d her mom went to the store and picked out the most beautiful kite they could find. It was red, blue, and yellow. Lily was so grateful to her mom for helping her get the kite. They went to the park to fly the kite together.\n",
      "At the park, Lily and her mom ran and laughed as they flew the kite high in the sky. The kite danced in the wind, and Lily's dream had come true. She was so grateful for her mom and the fun day they had together.\n",
      "From that day on, Lily and her mom flew the kite at the park whenever they could. They had so much fun together, and Lily knew that dreams can come true. She was very grateful for her mom and her pretty, colorful kite.\n",
      "<|endoftext|>\n",
      "Once upon a time, there was a pretty landscape with many trees. It was a happy place. One day, a big wind came and blew very hard. It made the trees bend and shake. The animals in the landscape were scared.\n",
      "A little bird had a nest in one of the trees. The bird's nest started to hang on a branch, about to fall. The little bird was very sad and did not know what to do. The other animals saw the little bird and wanted to help.\n",
      "The animals worked together to make the nest safe. They pushed and pulled the branch until the nest was not hanging anymore. The little bird was so happy and thanked the animals. They all learned that when things are hard, friends can help make it better. And they lived happily in the pretty landscape.\n",
      "<|endoftext|>\n",
      "\n",
      "One day, two brothers were playing. The older brother was eager to show his little brother something fun. He let his brother climb onto his back and they ran outside. They went to the park, where the older brother let his brother slide down the slide. His brother was so eager to ride the slide again that he went back up the stairs and slid down again. After a few runs, the older brother let his brother go on the swings. He swung back and forth, giggling with delight. The brothers had a great time together and the older brother was happy to let his brother try out new things.\n",
      "\n"
     ]
    }
   ],
   "source": [
    "print(op_str[-2000:])"
   ]
  },
  {
   "cell_type": "code",
   "execution_count": 7,
   "id": "db636c54",
   "metadata": {},
   "outputs": [
    {
     "name": "stdout",
     "output_type": "stream",
     "text": [
      "\n",
      "Once upon a time there was a little boy named Ben. Ben loved to explore the world around him. He saw many amazing things, like beautiful vases that were on display in a store. One day, Ben was walking through the store when he came across a very special vase. When Ben saw it he was amazed!  \n",
      "He said, “Wow, that is a really amazing vase! Can I buy it?” \n",
      "The shopkeeper smiled and said, “Of course you can. You can take it home and show all your friends how amazing it is!”\n",
      "So Ben took the vase home and he was so proud of it! He called his friends over and showed them the amazing vase. All his friends thought the vase was beautiful and couldn't believe how lucky Ben was. \n",
      "And that's how Ben found an amazing vase in the store!\n",
      "<|endoftext|>\n",
      "Once upon a time, there was a reliable otter named Ollie. He lived in a river with his family. They all loved to play and swim together.\n",
      "One day, Ollie's mom said, \"Ollie, hurry and get some fish for dinner!\" Ollie swam fast to catch fish. He saw his fri\n"
     ]
    }
   ],
   "source": [
    "print(op_str[:1000])"
   ]
  },
  {
   "cell_type": "code",
   "execution_count": 9,
   "id": "035e6085",
   "metadata": {},
   "outputs": [
    {
     "data": {
      "text/plain": [
       "'<|endoftext|>'"
      ]
     },
     "execution_count": 9,
     "metadata": {},
     "output_type": "execute_result"
    }
   ],
   "source": [
    "split_special_token.decode('utf-8')"
   ]
  },
  {
   "cell_type": "code",
   "execution_count": 45,
   "id": "e56e00da",
   "metadata": {},
   "outputs": [],
   "source": [
    "import regex as re\n",
    "import multiprocessing as mp\n",
    "from collections import Counter\n",
    "from cs336_basics.pretokenization_example import find_chunk_boundaries\n",
    "\n",
    "file = open('data/TinyStoriesV2-GPT4-train.txt', 'rb')\n",
    "desired_num_chunks = 100\n",
    "split_special_token = b'<|endoftext|>'\n",
    "special_tokens = [split_special_token]\n",
    "\n",
    "chunk_boundaries = find_chunk_boundaries(file, desired_num_chunks, split_special_token)\n",
    "chunks = []\n",
    "\n",
    "for idx in range(len(chunk_boundaries) - 1):\n",
    "\tfile.seek(chunk_boundaries[idx])\n",
    "\tchunks.append(file.read(chunk_boundaries[idx + 1] - chunk_boundaries[idx]))\n",
    "\n",
    "PAT = r\"\"\"'(?:[sdmt]|ll|ve|re)| ?\\p{L}+| ?\\p{N}+| ?[^\\s\\p{L}\\p{N}]+|\\s+(?!\\S)|\\s+\"\"\"\n",
    "\n",
    "def process_each_chunk(chunk: bytes, special_tokens: list[bytes])-> Counter:\n",
    "\t# Remove special tokens\n",
    "\tpattern = b'|'.join(re.escape(tok) for tok in special_tokens)\n",
    "\tchunk_no_special_tokens = b\" \".join(re.split(pattern, chunk))\n",
    "\tcounter = Counter()\n",
    "\n",
    "\tfor pretoken in re.finditer(PAT, chunk_no_special_tokens.decode(\"utf-8\")):\n",
    "\t\tpretoken = pretoken.group()\n",
    "\t\tpretoken = tuple(pretoken.encode(\"utf-8\"))\n",
    "\t\tcounter[tuple(pretoken)] += 1\n",
    "\n",
    "\treturn counter"
   ]
  },
  {
   "cell_type": "code",
   "execution_count": 46,
   "id": "c4585dbf",
   "metadata": {},
   "outputs": [],
   "source": [
    "# Run above function on each chunk\n",
    "with mp.Pool() as pool:\n",
    "\tlocal_counters = pool.starmap(\n",
    "\t\tprocess_each_chunk,\n",
    "\t\t[(chunk, special_tokens) for chunk in chunks[:20]]\n",
    "\t)\n",
    "\n",
    "# Merge all local counters\n",
    "final_counter = Counter()\n",
    "for counter in local_counters:\n",
    "\tfinal_counter.update(counter)"
   ]
  },
  {
   "cell_type": "markdown",
   "id": "96d7f254",
   "metadata": {},
   "source": [
    "### Inspecting tokenizer outputs from TS and OWT"
   ]
  },
  {
   "cell_type": "markdown",
   "id": "99234afa",
   "metadata": {},
   "source": [
    "##### Stats on dataset"
   ]
  },
  {
   "cell_type": "code",
   "execution_count": 9,
   "id": "3bcdbc37",
   "metadata": {},
   "outputs": [
    {
     "name": "stdout",
     "output_type": "stream",
     "text": [
      "2717699\n"
     ]
    }
   ],
   "source": [
    "def count_stories(file_path):\n",
    "\tdelimiter = \"<|endoftext|>\"\n",
    "\n",
    "\twith open(file_path, 'r', encoding='utf-8') as f:\n",
    "\t\tfile_content = f.read()\n",
    "\n",
    "\treturn file_content.count(delimiter)\n",
    "\n",
    "filepath = \"/home/siddhesh/code/assignment1-basics/data/TinyStoriesV2-GPT4-train.txt\"\n",
    "print(count_stories(filepath))"
   ]
  },
  {
   "cell_type": "code",
   "execution_count": null,
   "id": "233d6d82",
   "metadata": {},
   "outputs": [
    {
     "name": "stdout",
     "output_type": "stream",
     "text": [
      "2399397\n"
     ]
    }
   ],
   "source": [
    "def count_stories_memory_efficient(file_path, delimiter=\"<|endoftext|>\", chunk_size=4096):\n",
    "    count = 0\n",
    "    remainder = \"\"\n",
    "    delimiter_len = len(delimiter)\n",
    "    \n",
    "    with open(file_path, 'rb') as f:\n",
    "        while True:\n",
    "            chunk = f.read(chunk_size)\n",
    "            if not chunk:\n",
    "                break\n",
    "            \n",
    "            text_chunk = chunk.decode('utf-8', errors='ignore')\n",
    "\n",
    "            current_block = remainder + text_chunk\n",
    "            \n",
    "            count += current_block.count(delimiter)\n",
    "            \n",
    "            remainder = current_block[-(delimiter_len - 1):]\n",
    "            \n",
    "    return count\n",
    "filepath = \"/home/siddhesh/code/assignment1-basics/data/owt_train.txt\"\n",
    "print(count_stories_memory_efficient(filepath)) # This answer is wrong should be 8M docs"
   ]
  },
  {
   "cell_type": "markdown",
   "id": "af8399b9",
   "metadata": {},
   "source": [
    "##### Tokenizer"
   ]
  },
  {
   "cell_type": "code",
   "execution_count": 1,
   "id": "2afac40d",
   "metadata": {},
   "outputs": [],
   "source": [
    "import pickle\n",
    "\n",
    "with open(\"/home/siddhesh/code/assignment1-basics/data/TinyStoriesV2-GPT4-train.pkl\", 'rb') as f:\n",
    "\tts_tokenizer = pickle.load(f)\n",
    "\n",
    "with open(\"/home/siddhesh/code/assignment1-basics/data/owt_train.pkl\", 'rb') as f:\n",
    "\towt_tokenizer = pickle.load(f)"
   ]
  },
  {
   "cell_type": "code",
   "execution_count": 2,
   "id": "5b4f91fe",
   "metadata": {},
   "outputs": [
    {
     "data": {
      "text/plain": [
       "[(b' ', b't'),\n",
       " (b'h', b'e'),\n",
       " (b' ', b'a'),\n",
       " (b' ', b's'),\n",
       " (b' ', b'w'),\n",
       " (b'n', b'd'),\n",
       " (b' t', b'he'),\n",
       " (b'e', b'd'),\n",
       " (b' ', b'b'),\n",
       " (b' t', b'o'),\n",
       " (b' a', b'nd'),\n",
       " (b' ', b'h'),\n",
       " (b' ', b'f'),\n",
       " (b'i', b'n'),\n",
       " (b' ', b'T'),\n",
       " (b' w', b'a'),\n",
       " (b'r', b'e'),\n",
       " (b'i', b't'),\n",
       " (b'o', b'u'),\n",
       " (b' ', b'l')]"
      ]
     },
     "execution_count": 2,
     "metadata": {},
     "output_type": "execute_result"
    }
   ],
   "source": [
    "ts_tokenizer['merges'][:20]"
   ]
  },
  {
   "cell_type": "code",
   "execution_count": 3,
   "id": "986705eb",
   "metadata": {},
   "outputs": [
    {
     "data": {
      "text/plain": [
       "[(b' ', b't'),\n",
       " (b' ', b'a'),\n",
       " (b'h', b'e'),\n",
       " (b'i', b'n'),\n",
       " (b'r', b'e'),\n",
       " (b' t', b'he'),\n",
       " (b'o', b'n'),\n",
       " (b'e', b'r'),\n",
       " (b' ', b's'),\n",
       " (b' ', b'w'),\n",
       " (b'a', b't'),\n",
       " (b' ', b'o'),\n",
       " (b'e', b'n'),\n",
       " (b' ', b'c'),\n",
       " (b'i', b't'),\n",
       " (b'i', b's'),\n",
       " (b'a', b'n'),\n",
       " (b'o', b'r'),\n",
       " (b' ', b'b'),\n",
       " (b'e', b's')]"
      ]
     },
     "execution_count": 3,
     "metadata": {},
     "output_type": "execute_result"
    }
   ],
   "source": [
    "owt_tokenizer['merges'][:20]"
   ]
  },
  {
   "cell_type": "markdown",
   "id": "3aa0f9be",
   "metadata": {},
   "source": [
    "### Check for common merges"
   ]
  },
  {
   "cell_type": "code",
   "execution_count": 4,
   "id": "947d510c",
   "metadata": {},
   "outputs": [
    {
     "name": "stdout",
     "output_type": "stream",
     "text": [
      "Num common merges: 5178 / 9743\n",
      "% common merges: 0.5314584830134456\n"
     ]
    }
   ],
   "source": [
    "num_common = 0\n",
    "\n",
    "owt_tokenizer_merges_set = set(owt_tokenizer['merges'])\n",
    "\n",
    "for merge in ts_tokenizer['merges']:\n",
    "\tif merge in owt_tokenizer_merges_set:\n",
    "\t\tnum_common += 1\n",
    "\n",
    "print (f\"Num common merges: {num_common} / {len(ts_tokenizer['merges'])}\")\n",
    "print (f\"% common merges: {num_common / len(ts_tokenizer['merges'])}\")"
   ]
  },
  {
   "cell_type": "code",
   "execution_count": null,
   "id": "1c7d77b1",
   "metadata": {},
   "outputs": [],
   "source": [
    "%matplotlib inline"
   ]
  },
  {
   "cell_type": "code",
   "execution_count": 15,
   "id": "4c0dfd20",
   "metadata": {},
   "outputs": [
    {
     "data": {
      "image/png": "[encoded data removed]",
      "text/plain": [
       "<Figure size 1200x600 with 1 Axes>"
      ]
     },
     "metadata": {},
     "output_type": "display_data"
    }
   ],
   "source": [
    "import collections\n",
    "from typing import List, Tuple, Dict, Any\n",
    "import random\n",
    "import matplotlib.pyplot as plt\n",
    "import matplotlib.ticker as ticker\n",
    "\n",
    "Merge = Tuple[bytes, bytes]\n",
    "\n",
    "def analyze_common_merges(\n",
    "    ts_merges: List[Merge],\n",
    "    owt_merges: List[Merge],\n",
    "    num_points: int = 20\n",
    ") -> List[Dict[str, Any]]:\n",
    "    max_merges = min(len(ts_merges), len(owt_merges))\n",
    "\n",
    "    if max_merges == 0:\n",
    "        return []\n",
    "\n",
    "    indices = sorted(list(\n",
    "        set(\n",
    "            [int(i * max_merges / (num_points - 1)) for i in range(num_points)]\n",
    "        )\n",
    "    ))\n",
    "\n",
    "    indices = [i for i in indices if i > 0 and i <= max_merges]\n",
    "\n",
    "    ts_set = set()\n",
    "    owt_set = set()\n",
    "    results = []\n",
    "\n",
    "    for i in range(1, max_merges + 1):\n",
    "        ts_set.add(ts_merges[i - 1])\n",
    "        owt_set.add(owt_merges[i - 1])\n",
    "\n",
    "        if i in indices:\n",
    "            common_merges = ts_set.intersection(owt_set)\n",
    "            common_percent = (len(common_merges) / i) * 100\n",
    "\n",
    "            results.append({\n",
    "                'num_merges': i,\n",
    "                'common_percent': common_percent\n",
    "            })\n",
    "\n",
    "    return results\n",
    "\n",
    "plot_data = analyze_common_merges(\n",
    "    ts_merges=ts_tokenizer['merges'],\n",
    "    owt_merges=owt_tokenizer['merges'],\n",
    "    num_points=20\n",
    ")\n",
    "\n",
    "# Separate the data into X and Y lists\n",
    "num_merges = [d['num_merges'] for d in plot_data]\n",
    "common_percent = [d['common_percent'] for d in plot_data]\n",
    "\n",
    "# Find the minimum and maximum percentage values\n",
    "min_percent = min(common_percent)\n",
    "max_percent = max(common_percent) # This is 100.0\n",
    "\n",
    "# Set Y-Axis Limits Dynamically\n",
    "# Set Y_max to be max_percent + 0.1% for breathing room\n",
    "y_max_limit = max_percent + 0.1 \n",
    "# Set Y_min to be min_percent - 0.1% for breathing room\n",
    "y_min_limit = min_percent - 0.1\n",
    "\n",
    "# Use the OO interface for better control, and increase width for labels\n",
    "fig, ax = plt.subplots(figsize=(12, 6))\n",
    "\n",
    "# Plot the data\n",
    "ax.plot(num_merges, common_percent, marker='o', linestyle='-', color='tab:blue', zorder=2)\n",
    "\n",
    "# --- Code to add label for every plotted point on the Y-axis ---\n",
    "# A small offset is used to push the label above the marker\n",
    "y_text_offset = (y_max_limit - y_min_limit) * 0.02 \n",
    "\n",
    "for x, y in zip(num_merges, common_percent):\n",
    "    # Format the text to two decimal places and append the percent sign\n",
    "    label = f\"{y:.2f}%\"\n",
    "    \n",
    "    # Add the text label to the plot\n",
    "    ax.text(x, y + y_text_offset, label, ha='center', va='bottom', fontsize=8, color='black', zorder=3)\n",
    "# -------------------------------------------------------------\n",
    "\n",
    "# Apply the dynamic Y-axis limits\n",
    "ax.set_ylim(y_min_limit, y_max_limit)\n",
    "\n",
    "# --- Set X-Axis Ticks and Labels for Every Point ---\n",
    "# 1. Set the tick locations to match the num_merges list\n",
    "ax.set_xticks(num_merges)\n",
    "\n",
    "# 2. Set the tick labels (using the same list) and rotate them 45 degrees\n",
    "ax.set_xticklabels(num_merges, rotation=45, ha='right', fontsize=9)\n",
    "# --------------------------------------------------\n",
    "\n",
    "# Add title and labels\n",
    "ax.set_title('Percentage of Common Merges vs. Number of Merges', fontsize=14)\n",
    "ax.set_xlabel('Number of Merges Considered', fontsize=12)\n",
    "ax.set_ylabel('Percentage of Common Merges (%)', fontsize=12)\n",
    "\n",
    "# Add a grid\n",
    "ax.grid(True, linestyle='--', alpha=0.7, zorder=1)\n",
    "\n",
    "# Adjust layout to prevent rotated labels from being cut off\n",
    "plt.tight_layout()\n",
    "\n",
    "# Display the plot\n",
    "plt.show()"
   ]
  },
  {
   "cell_type": "markdown",
   "id": "1cd5d877",
   "metadata": {},
   "source": [
    "### What is average number of bytes per token? Higher the better"
   ]
  },
  {
   "cell_type": "code",
   "execution_count": 4,
   "id": "4406eaa2",
   "metadata": {},
   "outputs": [],
   "source": [
    "def calculate_average_bytes(vocab: dict):\n",
    "\tnum_bytes = 0\n",
    "\tfor _, val in vocab.items():\n",
    "\t\tnum_bytes += len(val)\n",
    "\n",
    "\treturn num_bytes / len(vocab)"
   ]
  },
  {
   "cell_type": "code",
   "execution_count": 6,
   "id": "812915e5",
   "metadata": {},
   "outputs": [
    {
     "data": {
      "text/plain": [
       "(5.7906, 6.33721875)"
      ]
     },
     "execution_count": 6,
     "metadata": {},
     "output_type": "execute_result"
    }
   ],
   "source": [
    "calculate_average_bytes(ts_tokenizer['vocab']), calculate_average_bytes(owt_tokenizer['vocab'])"
   ]
  },
  {
   "cell_type": "markdown",
   "id": "ff17d940",
   "metadata": {},
   "source": [
    "#### How does the pretokenization pattern apply to special tokens"
   ]
  },
  {
   "cell_type": "code",
   "execution_count": 1,
   "id": "3d9e286c",
   "metadata": {},
   "outputs": [],
   "source": [
    "PAT = r\"\"\"'(?:[sdmt]|ll|ve|re)| ?\\p{L}+| ?\\p{N}+| ?[^\\s\\p{L}\\p{N}]+|\\s+(?!\\S)|\\s+\"\"\""
   ]
  },
  {
   "cell_type": "code",
   "execution_count": 2,
   "id": "eb48ad67",
   "metadata": {},
   "outputs": [],
   "source": [
    "import regex as re"
   ]
  },
  {
   "cell_type": "code",
   "execution_count": 6,
   "id": "0b13018d",
   "metadata": {},
   "outputs": [],
   "source": [
    "with open('/home/siddhesh/code/assignment1-basics/data/TinyStoriesV2-GPT4-train.txt') as f:\n",
    "\tts = f.read()"
   ]
  },
  {
   "cell_type": "code",
   "execution_count": 4,
   "id": "8c7b2ffe",
   "metadata": {},
   "outputs": [],
   "source": [
    "op = re.findall(PAT, ts[:1000])"
   ]
  },
  {
   "cell_type": "code",
   "execution_count": 7,
   "id": "bf22ef4d",
   "metadata": {},
   "outputs": [
    {
     "name": "stdout",
     "output_type": "stream",
     "text": [
      "\n",
      "Once upon a time there was a little boy named Ben. Ben loved to explore the world around him. He saw many amazing things, like beautiful vases that were on display in a store. One day, Ben was walking through the store when he came across a very special vase. When Ben saw it he was amazed!  \n",
      "He said, “Wow, that is a really amazing vase! Can I buy it?” \n",
      "The shopkeeper smiled and said, “Of course you can. You can take it home and show all your friends how amazing it is!”\n",
      "So Ben took the vase home and he was so proud of it! He called his friends over and showed them the amazing vase. All his friends thought the vase was beautiful and couldn't believe how lucky Ben was. \n",
      "And that's how Ben found an amazing vase in the store!\n",
      "<|endoftext|>\n",
      "Once upon a time, there was a reliable otter named Ollie. He lived in a river with his family. They all loved to play and swim together.\n",
      "One day, Ollie's mom said, \"Ollie, hurry and get some fish for dinner!\" Ollie swam fast to catch fish. He saw his fri\n"
     ]
    }
   ],
   "source": [
    "print (ts[:1000])"
   ]
  },
  {
   "cell_type": "code",
   "execution_count": 6,
   "id": "a5b4a3d3",
   "metadata": {},
   "outputs": [],
   "source": [
    "#op #Uncomment to print"
   ]
  },
  {
   "cell_type": "code",
   "execution_count": 7,
   "id": "7c17f5b5",
   "metadata": {},
   "outputs": [],
   "source": [
    "special_token = \"<|endoftext|>\""
   ]
  },
  {
   "cell_type": "code",
   "execution_count": 14,
   "id": "367eeba4",
   "metadata": {},
   "outputs": [],
   "source": [
    "import re\n",
    "matches = re.finditer(re.escape(special_token), ts[:1000])"
   ]
  },
  {
   "cell_type": "code",
   "execution_count": 15,
   "id": "d121d80a",
   "metadata": {},
   "outputs": [],
   "source": [
    "match = next(matches)"
   ]
  },
  {
   "cell_type": "code",
   "execution_count": 24,
   "id": "09e19413",
   "metadata": {},
   "outputs": [
    {
     "data": {
      "text/plain": [
       "'<|endoftext|>'"
      ]
     },
     "execution_count": 24,
     "metadata": {},
     "output_type": "execute_result"
    }
   ],
   "source": [
    "match.group()"
   ]
  },
  {
   "cell_type": "code",
   "execution_count": 18,
   "id": "b49d5938",
   "metadata": {},
   "outputs": [
    {
     "data": {
      "text/plain": [
       "'<|endoftext|>'"
      ]
     },
     "execution_count": 18,
     "metadata": {},
     "output_type": "execute_result"
    }
   ],
   "source": [
    "ts[match.span()[0]:match.span()[1]]"
   ]
  },
  {
   "cell_type": "code",
   "execution_count": 10,
   "id": "b3488317",
   "metadata": {},
   "outputs": [
    {
     "data": {
      "text/plain": [
       "'<|endoftext|>\\nOnce'"
      ]
     },
     "execution_count": 10,
     "metadata": {},
     "output_type": "execute_result"
    }
   ],
   "source": [
    "ts[732:750]"
   ]
  },
  {
   "cell_type": "code",
   "execution_count": 2,
   "id": "1552dbd7",
   "metadata": {},
   "outputs": [
    {
     "name": "stdout",
     "output_type": "stream",
     "text": [
      "The autoreload extension is already loaded. To reload it, use:\n",
      "  %reload_ext autoreload\n"
     ]
    }
   ],
   "source": [
    "%load_ext autoreload\n",
    "%autoreload 2"
   ]
  },
  {
   "cell_type": "code",
   "execution_count": 34,
   "id": "2e162961",
   "metadata": {},
   "outputs": [],
   "source": [
    "from cs336_basics.tokenizer import Tokenizer"
   ]
  },
  {
   "cell_type": "code",
   "execution_count": 42,
   "id": "c4e572c1",
   "metadata": {},
   "outputs": [],
   "source": [
    "tokenizer = Tokenizer.from_files(\"data/TinyStoriesV2-GPT4-train.pkl\", \"\", [\"<|endoftext|>\"])"
   ]
  },
  {
   "cell_type": "code",
   "execution_count": 43,
   "id": "11fabc63",
   "metadata": {},
   "outputs": [
    {
     "ename": "KeyError",
     "evalue": "745",
     "output_type": "error",
     "traceback": [
      "\u001b[31m---------------------------------------------------------------------------\u001b[39m",
      "\u001b[31mKeyError\u001b[39m                                  Traceback (most recent call last)",
      "\u001b[36mCell\u001b[39m\u001b[36m \u001b[39m\u001b[32mIn[43]\u001b[39m\u001b[32m, line 1\u001b[39m\n\u001b[32m----> \u001b[39m\u001b[32m1\u001b[39m tokenized_seq = \u001b[43mtokenizer\u001b[49m\u001b[43m.\u001b[49m\u001b[43mencode\u001b[49m\u001b[43m(\u001b[49m\u001b[43mts\u001b[49m\u001b[43m[\u001b[49m\u001b[43m:\u001b[49m\u001b[32;43m1000\u001b[39;49m\u001b[43m]\u001b[49m\u001b[43m)\u001b[49m\n",
      "\u001b[36mFile \u001b[39m\u001b[32m<string>:21\u001b[39m, in \u001b[36mencode\u001b[39m\u001b[34m(self, text)\u001b[39m\n",
      "\u001b[31mKeyError\u001b[39m: 745"
     ]
    }
   ],
   "source": [
    "tokenized_seq = tokenizer.encode(ts[:1000])"
   ]
  },
  {
   "cell_type": "code",
   "execution_count": 41,
   "id": "497a22d7",
   "metadata": {},
   "outputs": [
    {
     "name": "stdout",
     "output_type": "stream",
     "text": [
      "\n",
      "Once upon a time there was a little boy named Ben. Ben loved to explore the world around him. He saw many amazing things, like beautiful vases that were on display in a store. One day, Ben was walking through the store when he came across a very special vase. When Ben saw it he was amazed!  \n",
      "He said, “Wow, that is a really amazing vase! Can I buy it?” \n",
      "The shopkeeper smiled and said, “Of course you can. You can take it home and show all your friends how amazing it is!”\n",
      "So Ben took the vase home and he was so proud of it! He called his friends over and showed them the amazing vase. All his friends thought the vase was beautiful and couldn't believe how lucky Ben was. \n",
      "And that's how Ben found an amazing vase in the store!\n",
      "\n",
      "Once upon a time, there was a reliable otter named Ollie. He lived in a river with his family. They all loved to play and swim together.\n",
      "One day, Ollie's mom said, \"Ollie, hurry and get some fish for dinner!\" Ollie swam fast to catch fish. He saw his fri\n"
     ]
    }
   ],
   "source": [
    "print(tokenizer.decode(tokenized_seq))"
   ]
  },
  {
   "cell_type": "code",
   "execution_count": 44,
   "id": "f60a9c3a",
   "metadata": {},
   "outputs": [],
   "source": [
    "import pickle\n",
    "\n",
    "with open(\"data/TinyStoriesV2-GPT4-train.pkl\", \"rb\") as f:\n",
    "\tvocab = pickle.load(f)"
   ]
  },
  {
   "cell_type": "code",
   "execution_count": 49,
   "id": "ebf606cf",
   "metadata": {},
   "outputs": [
    {
     "data": {
      "text/plain": [
       "dict"
      ]
     },
     "execution_count": 49,
     "metadata": {},
     "output_type": "execute_result"
    }
   ],
   "source": [
    "type(vocab['vocab'])"
   ]
  },
  {
   "cell_type": "code",
   "execution_count": null,
   "id": "1aa186a7",
   "metadata": {},
   "outputs": [],
   "source": [
    "import json\n",
    "def convert_bytes_to_str(obj):\n",
    "    # This function iterates through the dictionary and replaces bytes objects\n",
    "    if isinstance(obj, dict):\n",
    "        return {k: convert_bytes_to_str(v) for k, v in obj.items()}\n",
    "    elif isinstance(obj, list):\n",
    "        return [convert_bytes_to_str(element) for element in obj]\n",
    "    elif isinstance(obj, bytes):\n",
    "        # Decode the bytes to a string, assuming UTF-8\n",
    "        return obj.decode('utf-8', errors=\"replace\")\n",
    "    else:\n",
    "        return obj\n",
    "\n",
    "with open(\"data/TinyStoriesV2-GPT4-train_vocab.json\", \"w\") as f:\n",
    "\tjson.dump(convert_bytes_to_str(vocab['vocab']), f)"
   ]
  },
  {
   "cell_type": "code",
   "execution_count": 60,
   "id": "b7da4f76",
   "metadata": {},
   "outputs": [],
   "source": [
    "from typing import List, Tuple\n",
    "def write_tuples_to_text(data_list: List[Tuple[bytes, bytes]], file_path: str) -> None:\n",
    "    \"\"\"\n",
    "    Writes a list of 2-element byte string tuples to a text file.\n",
    "\n",
    "    Each byte string in a tuple is decoded (using 'utf-8') and written \n",
    "    to a single line, separated by a space. Each tuple starts a new line.\n",
    "\n",
    "    Args:\n",
    "        data_list: The list of tuples, where each tuple contains two bytes strings.\n",
    "        file_path: The path to the output text file.\n",
    "    \"\"\"\n",
    "    try:\n",
    "        # Open the file in write mode ('w'). It will automatically be closed.\n",
    "        with open(file_path, 'w', encoding='utf-8') as f:\n",
    "            for b1, b2 in data_list:\n",
    "                # Decode the bytes strings to regular strings\n",
    "                s1 = b1.decode('utf-8', errors=\"replace\")\n",
    "                s2 = b2.decode('utf-8', errors=\"replace\")\n",
    "\n",
    "                # Write the two strings separated by a space, followed by a newline\n",
    "                f.write(f\"{s1} {s2}\\n\")\n",
    "        print(f\"Successfully wrote {len(data_list)} lines to {file_path}\")\n",
    "    except Exception as e:\n",
    "        print(f\"An error occurred: {e}\")"
   ]
  },
  {
   "cell_type": "code",
   "execution_count": 62,
   "id": "32473c83",
   "metadata": {},
   "outputs": [
    {
     "name": "stdout",
     "output_type": "stream",
     "text": [
      "Successfully wrote 9743 lines to data/TinyStoriesV2-GPT4-train_merges.txt\n"
     ]
    }
   ],
   "source": [
    "write_tuples_to_text(vocab['merges'], 'data/TinyStoriesV2-GPT4-train_merges.txt')"
   ]
  }
 ],
 "metadata": {
  "kernelspec": {
   "display_name": "cs336-basics",
   "language": "python",
   "name": "python3"
  },
  "language_info": {
   "codemirror_mode": {
    "name": "ipython",
    "version": 3
   },
   "file_extension": ".py",
   "mimetype": "text/x-python",
   "name": "python",
   "nbconvert_exporter": "python",
   "pygments_lexer": "ipython3",
   "version": "3.12.3"
  }
 },
 "nbformat": 4,
 "nbformat_minor": 5
}
